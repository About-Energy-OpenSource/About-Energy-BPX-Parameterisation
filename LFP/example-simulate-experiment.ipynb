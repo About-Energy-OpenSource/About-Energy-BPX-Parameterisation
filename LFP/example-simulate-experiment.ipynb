{
 "cells": [
  {
   "cell_type": "code",
   "execution_count": 65,
   "id": "99d5dce0",
   "metadata": {},
   "outputs": [],
   "source": [
    "import pybamm"
   ]
  },
  {
   "cell_type": "code",
   "execution_count": 66,
   "id": "a283dd94",
   "metadata": {},
   "outputs": [],
   "source": [
    "# Import parameters from BPX JSON file\n",
    "parameter_values = pybamm.ParameterValues.create_from_bpx(\"lfp_18650_cell_BPX.json\")"
   ]
  },
  {
   "cell_type": "code",
   "execution_count": 67,
   "id": "9a0ed72d",
   "metadata": {},
   "outputs": [],
   "source": [
    "# Create a DFN model\n",
    "model = pybamm.lithium_ion.DFN()\n",
    "\n",
    "# solver\n",
    "solver = pybamm.CasadiSolver(\"safe\", atol=1e-6, rtol=1e-6)\n",
    "\n",
    "# Prevent solver failure if interpolant bounds are exceeded by a negligible amount\n",
    "solver._on_extrapolation = \"warn\""
   ]
  },
  {
   "cell_type": "code",
   "execution_count": 68,
   "id": "d904ab95",
   "metadata": {},
   "outputs": [],
   "source": [
    "# Define an experiment\n",
    "experiment = pybamm.Experiment(\n",
    "    [\n",
    "        (\n",
    "            \"Discharge at C/5 for 10 hours or until 2.5 V\",\n",
    "            \"Rest for 1 hour\",\n",
    "            \"Charge at 1 A until 3.5 V\",\n",
    "            \"Hold at 3.5 V until 10 mA\",\n",
    "            \"Rest for 1 hour\",\n",
    "        ),\n",
    "    ]\n",
    "    * 2\n",
    ")"
   ]
  },
  {
   "cell_type": "code",
   "execution_count": 69,
   "id": "ad7f7eb7",
   "metadata": {},
   "outputs": [],
   "source": [
    "# Create a simulation object\n",
    "sim = pybamm.Simulation(model, parameter_values=parameter_values, solver=solver, experiment=experiment)"
   ]
  },
  {
   "cell_type": "code",
   "execution_count": 70,
   "id": "3084be1f",
   "metadata": {},
   "outputs": [
    {
     "name": "stderr",
     "output_type": "stream",
     "text": [
      "The linesearch algorithm failed with too small a step.\n",
      "The linesearch algorithm failed with too small a step.\n",
      "The linesearch algorithm failed with too small a step.\n",
      "The linesearch algorithm failed with too small a step.\n",
      "The linesearch algorithm failed with too small a step.\n"
     ]
    },
    {
     "data": {
      "text/plain": [
       "<pybamm.solvers.solution.Solution at 0x1ec75821fd0>"
      ]
     },
     "execution_count": 70,
     "metadata": {},
     "output_type": "execute_result"
    }
   ],
   "source": [
    "# Simulate\n",
    "sim.solve()"
   ]
  },
  {
   "cell_type": "code",
   "execution_count": 71,
   "id": "34b16f01",
   "metadata": {},
   "outputs": [
    {
     "data": {
      "application/vnd.jupyter.widget-view+json": {
       "model_id": "492bcf66e1364699bbc3953b966fd439",
       "version_major": 2,
       "version_minor": 0
      },
      "text/plain": [
       "interactive(children=(FloatSlider(value=0.0, description='t', max=19.09387414777705, step=0.1909387414777705),…"
      ]
     },
     "metadata": {},
     "output_type": "display_data"
    },
    {
     "data": {
      "text/plain": [
       "<pybamm.plotting.quick_plot.QuickPlot at 0x1ec77a712b0>"
      ]
     },
     "execution_count": 71,
     "metadata": {},
     "output_type": "execute_result"
    }
   ],
   "source": [
    "# Plot results\n",
    "sim.plot()"
   ]
  }
 ],
 "metadata": {
  "kernelspec": {
   "display_name": "env_pybamm22.12",
   "language": "python",
   "name": "env_pybamm22.12"
  },
  "language_info": {
   "codemirror_mode": {
    "name": "ipython",
    "version": 3
   },
   "file_extension": ".py",
   "mimetype": "text/x-python",
   "name": "python",
   "nbconvert_exporter": "python",
   "pygments_lexer": "ipython3",
   "version": "3.9.12 (main, Apr  4 2022, 05:22:27) [MSC v.1916 64 bit (AMD64)]"
  },
  "vscode": {
   "interpreter": {
    "hash": "a4ce57300902caaaacf5e1d5291c1d0370c97fcc6742854b02b8b7e8280b716a"
   }
  }
 },
 "nbformat": 4,
 "nbformat_minor": 5
}
