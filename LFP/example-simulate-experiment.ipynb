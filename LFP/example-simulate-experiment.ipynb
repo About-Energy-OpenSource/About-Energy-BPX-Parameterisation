{
 "cells": [
  {
   "cell_type": "code",
   "execution_count": 7,
   "id": "99d5dce0",
   "metadata": {},
   "outputs": [],
   "source": [
    "import pybamm\n",
    "from parameters_LFP import parameter_values"
   ]
  },
  {
   "cell_type": "code",
   "execution_count": 8,
   "id": "9a0ed72d",
   "metadata": {},
   "outputs": [],
   "source": [
    "model = pybamm.lithium_ion.DFN()"
   ]
  },
  {
   "cell_type": "code",
   "execution_count": 9,
   "id": "d904ab95",
   "metadata": {},
   "outputs": [],
   "source": [
    "experiment = pybamm.Experiment(\n",
    "    [\n",
    "        (\n",
    "            \"Discharge at C/5 for 10 hours or until 2 V\",\n",
    "            \"Rest for 1 hour\",\n",
    "            \"Charge at 1 A until 3.5 V\",\n",
    "            \"Hold at 3.5 V until 10 mA\",\n",
    "            \"Rest for 1 hour\",\n",
    "        ),\n",
    "    ]\n",
    "    * 2\n",
    ")"
   ]
  },
  {
   "cell_type": "code",
   "execution_count": 10,
   "id": "ad7f7eb7",
   "metadata": {},
   "outputs": [],
   "source": [
    "sim = pybamm.Simulation(model, parameter_values=parameter_values, experiment=experiment)"
   ]
  },
  {
   "cell_type": "code",
   "execution_count": 11,
   "id": "3084be1f",
   "metadata": {},
   "outputs": [
    {
     "name": "stderr",
     "output_type": "stream",
     "text": [
      "At t = 0.00737148 and h = 7.78698e-018, the corrector convergence failed repeatedly or with |h| = hmin.\n",
      "At t = 0.00363154 and h = 3.13707e-026, the corrector convergence failed repeatedly or with |h| = hmin.\n",
      "At t = 0.00469424 and h = 7.03571e-018, the corrector convergence failed repeatedly or with |h| = hmin.\n"
     ]
    },
    {
     "data": {
      "text/plain": [
       "<pybamm.solvers.solution.Solution at 0x27fd2f33130>"
      ]
     },
     "execution_count": 11,
     "metadata": {},
     "output_type": "execute_result"
    }
   ],
   "source": [
    "sim.solve()"
   ]
  },
  {
   "cell_type": "code",
   "execution_count": 12,
   "id": "34b16f01",
   "metadata": {},
   "outputs": [
    {
     "data": {
      "application/vnd.jupyter.widget-view+json": {
       "model_id": "a475cff78288494388a7e88cb9c6c86f",
       "version_major": 2,
       "version_minor": 0
      },
      "text/plain": [
       "interactive(children=(FloatSlider(value=0.0, description='t', max=19.139309768556863, step=0.19139309768556864…"
      ]
     },
     "metadata": {},
     "output_type": "display_data"
    },
    {
     "data": {
      "text/plain": [
       "<pybamm.plotting.quick_plot.QuickPlot at 0x27fd1425100>"
      ]
     },
     "execution_count": 12,
     "metadata": {},
     "output_type": "execute_result"
    }
   ],
   "source": [
    "sim.plot()"
   ]
  },
  {
   "cell_type": "code",
   "execution_count": null,
   "id": "f911c1ea",
   "metadata": {},
   "outputs": [],
   "source": []
  },
  {
   "cell_type": "code",
   "execution_count": null,
   "id": "f9da5e9c",
   "metadata": {},
   "outputs": [],
   "source": []
  }
 ],
 "metadata": {
  "kernelspec": {
   "display_name": "env_pybamm22.7",
   "language": "python",
   "name": "env_pybamm22.7"
  },
  "language_info": {
   "codemirror_mode": {
    "name": "ipython",
    "version": 3
   },
   "file_extension": ".py",
   "mimetype": "text/x-python",
   "name": "python",
   "nbconvert_exporter": "python",
   "pygments_lexer": "ipython3",
   "version": "3.9.12"
  },
  "vscode": {
   "interpreter": {
    "hash": "8e0628308962ea94e3d166e3059d989f77faa13be43fa3b399d447f053711af3"
   }
  }
 },
 "nbformat": 4,
 "nbformat_minor": 5
}
