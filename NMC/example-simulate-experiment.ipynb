{
 "cells": [
  {
   "cell_type": "code",
   "execution_count": 8,
   "id": "99d5dce0",
   "metadata": {},
   "outputs": [],
   "source": [
    "import pybamm"
   ]
  },
  {
   "cell_type": "code",
   "execution_count": 9,
   "id": "d5766e75",
   "metadata": {},
   "outputs": [],
   "source": [
    "# Import parameters from BPX JSON file\n",
    "parameter_values = pybamm.ParameterValues.create_from_bpx(\"nmc_pouch_cell_BPX.json\")"
   ]
  },
  {
   "cell_type": "code",
   "execution_count": 10,
   "id": "9a0ed72d",
   "metadata": {},
   "outputs": [],
   "source": [
    "# Create a DFN model\n",
    "model = pybamm.lithium_ion.DFN()"
   ]
  },
  {
   "cell_type": "code",
   "execution_count": 11,
   "id": "d904ab95",
   "metadata": {},
   "outputs": [],
   "source": [
    "# Define an experiment\n",
    "experiment = pybamm.Experiment(\n",
    "    [\n",
    "        (\n",
    "            \"Discharge at C/5 for 10 hours or until 3.3 V\",\n",
    "            \"Rest for 1 hour\",\n",
    "            \"Charge at 1 A until 4.1 V\",\n",
    "            \"Hold at 4.1 V until 10 mA\",\n",
    "            \"Rest for 1 hour\",\n",
    "        ),\n",
    "    ]\n",
    "    * 2\n",
    ")"
   ]
  },
  {
   "cell_type": "code",
   "execution_count": 12,
   "id": "ad7f7eb7",
   "metadata": {},
   "outputs": [],
   "source": [
    "# Create a simulation object\n",
    "sim = pybamm.Simulation(model, parameter_values=parameter_values, experiment=experiment)"
   ]
  },
  {
   "cell_type": "code",
   "execution_count": 13,
   "id": "3084be1f",
   "metadata": {},
   "outputs": [
    {
     "data": {
      "text/plain": [
       "<pybamm.solvers.solution.Solution at 0x236b59cc0a0>"
      ]
     },
     "execution_count": 13,
     "metadata": {},
     "output_type": "execute_result"
    }
   ],
   "source": [
    "# Simulate\n",
    "sim.solve()"
   ]
  },
  {
   "cell_type": "code",
   "execution_count": 14,
   "id": "34b16f01",
   "metadata": {},
   "outputs": [
    {
     "data": {
      "application/vnd.jupyter.widget-view+json": {
       "model_id": "6c64c424ae2a4843a44b0160720f2c6f",
       "version_major": 2,
       "version_minor": 0
      },
      "text/plain": [
       "interactive(children=(FloatSlider(value=0.0, description='t', max=37.50856964495205, step=0.37508569644952044)…"
      ]
     },
     "metadata": {},
     "output_type": "display_data"
    },
    {
     "data": {
      "text/plain": [
       "<pybamm.plotting.quick_plot.QuickPlot at 0x236b59a88b0>"
      ]
     },
     "execution_count": 14,
     "metadata": {},
     "output_type": "execute_result"
    }
   ],
   "source": [
    "# Plot results\n",
    "sim.plot()"
   ]
  }
 ],
 "metadata": {
  "kernelspec": {
   "display_name": "env_pybamm22.12",
   "language": "python",
   "name": "python3"
  },
  "language_info": {
   "codemirror_mode": {
    "name": "ipython",
    "version": 3
   },
   "file_extension": ".py",
   "mimetype": "text/x-python",
   "name": "python",
   "nbconvert_exporter": "python",
   "pygments_lexer": "ipython3",
   "version": "3.9.12"
  },
  "vscode": {
   "interpreter": {
    "hash": "a4ce57300902caaaacf5e1d5291c1d0370c97fcc6742854b02b8b7e8280b716a"
   }
  }
 },
 "nbformat": 4,
 "nbformat_minor": 5
}
